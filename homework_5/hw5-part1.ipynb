{
 "cells": [
  {
   "cell_type": "markdown",
   "id": "8ca6ea35-af0d-4805-9e3f-99b862802b1a",
   "metadata": {},
   "source": [
    "## Homework 5\n",
    "\n",
    "**Note: If this is one of your two late homework submissions, please indicate below; also indicate whether it is your first or second late submission.**\n",
    "\n",
    "\\_\\_\\_\\_\\_\\_\\_\\_\\_\\_\\_\\_\\_\\_\\_\\_\\_\\_\\_\\_\\_\\_\\_\\_\\_\\_\\_\\_\\_\\_\\_\\_\\_\\_\n",
    "\n",
    "This homework assignment has **two parts**. In the first, you will practice building a recommender system; in the second, you'll practice training a neural network for image classification. I strongly advise using Lab 8 and Lab 9 for assistance as you work on this assignment. Make sure to **read the entire assignment**.\n",
    "\n",
    "You also may need to use other functions. I encourage you to make use of available resources (including the Internet) to help you solve these problems. You can also work with your classmates. If you do work together, you must provide the names of those classmates below.\n",
    "\n",
    "[Names of Collaborators (if any):]{.underline}\n",
    "\n",
    "### Recommender Systems\n",
    "\n",
    "We'll work with the data in `data/movies.csv` and `data/movie-ratings.csv`. `movies` contains a list of $9,737$ movies and their basic description – title, year of release, and genres, separated by vertical bars (for example, `Comedy|Romance`). `movie-ratings` contains ratings of movies by $610$ users, on a scale from $0$ to $5$.\n",
    "\n",
    "The data come from this source at Kaggle: <https://www.kaggle.com/datasets/gargmanas/movierecommenderdataset/>\n",
    "\n",
    "#### Exercise 1\n",
    "\n",
    "Read both data files into Python. (You can also use R, if you prefer. If you do use R, I would recommend working with a smaller subset of the data.)\n",
    "\n",
    "Movie title and year of release are in the same column. Create a new variable that represents year of release, as a four-digit number.\n",
    "\n",
    "#### Exercise 2\n",
    "\n",
    "Create a histogram of year of release. How would you describe the shape of the distribution? When were the most movies released?\n",
    "\n",
    "#### Exercise 3\n",
    "\n",
    "Create a bar chart of the top 10 highest-rated movies.\n",
    "\n",
    "#### Exercise 4\n",
    "\n",
    "Create a variable called `string` that contains the text of each movie's genres, title, and year of release. For example, the value of `string` for `movieID == 3` should be: `\"Adventure Children Fantasy Jumanji (1995)\"`.\n",
    "\n",
    "#### Exercise 5\n",
    "\n",
    "Using the `string` variable, create a tf-idf matrix with `TfidfVectorizer` and `tfv.fit`.\n",
    "\n",
    "#### Exercise 6\n",
    "\n",
    "Use the sigmoid kernel from `scikit-learn` to calculate pairwise similarities between all items in your tf-idf matrix.\n",
    "\n",
    "#### Exercise 7\n",
    "\n",
    "Define a function, `give_recommendation()`, that takes as input the title of a movie and returns the top 10 most similar movies.\n",
    "\n",
    "#### Exercise 8\n",
    "\n",
    "What movies does your recommender system suggest for a user who likes \"Toy Story\" (released in 1995)?\n",
    "\n",
    "#### For 234 Students:\n",
    "\n",
    "#### Exercise 9\n",
    "\n",
    "Now we'll try making content-based recommendations. Turn the data into a CSR matrix using `scipy.sparse`.\n",
    "\n",
    "#### Exercise 10\n",
    "\n",
    "Fit a *k*-nearest neighbors model, using cosine similarity as the distance metric.\n",
    "\n",
    "#### Exercise 11\n",
    "\n",
    "Identify which movies your model deems most similar to \"GoldenEye\" (a James Bond movie, also released in 1995).\n",
    "\n",
    "### Image Classification\n",
    "\n",
    "Now we'll work with the data in `data/Animals`. This dataset, intended for animal image classification, [comes from Kaggle.](https://www.kaggle.com/datasets/borhanitrash/animal-image-classification-dataset) It consists of $3,000$ JPEG RGB images, each of which are 256 x 256 pixels, that have been divided into three classes with $1,000$ images in each class. The classes are `cats`, `dogs`, and `snakes`.\n",
    "\n",
    "#### Exercise 12\n",
    "\n",
    "Randomly select $150$ images of cats, $150$ images of dogs, and $150$ images of snakes. Set these aside in another directory labeled `test_images` to be your testing set. Using the same approach, randomly select another $150$ images from each class, and set these aside in a `validation_images` directory to be your validation set.\n",
    "\n",
    "#### Exercise 13\n",
    "\n",
    "Display a random image from each of the three classes in your training set to verify that the data are set up correctly.\n",
    "\n",
    "#### Exercise 14\n",
    "\n",
    "Using `ImageDataGenerator` and `flow_from_directory`, rescale your training, testing, and validation sets. Load and preprocess your images in batches of size $10$.\n",
    "\n",
    "#### Exercise 15\n",
    "\n",
    "Set up a convolutional neural net (CNN) with 7 layers using `Sequential()`. The layers should be as follows:\n",
    "\n",
    "1. 2D convolutional input layer with a ReLU activation function;\n",
    "2. Max pooling layer for 2D spatial data;\n",
    "3. 2D convolutional layer with ReLU activation;\n",
    "4. Max pooling layer for 2D spatial data;\n",
    "5. Flattening layer;\n",
    "6. Dense layer with $128$ units and ReLU activation;\n",
    "7. Dense output layer with softmax activation.\n",
    "\n",
    "#### Exercise 16\n",
    "\n",
    "Using Adam and categorical cross-entropy, fit the network you've created and let it run for $12$ epochs.\n",
    "\n",
    "#### Exercise 17\n",
    "\n",
    "Create a plot of the accuracy and loss by the number of epochs.\n",
    "\n",
    "#### For 234 Students:\n",
    "\n",
    "#### Exercise 18\n",
    "\n",
    "Look at your model's accuracy on your testing set. How did it do?\n",
    "\n",
    "#### Exercise 19\n",
    "\n",
    "Generate your model's prediction for a random image from the dataset.\n",
    "\n",
    "#### Exercise 20\n",
    "\n",
    "Create a confusion matrix using your testing set. Visualize the matrix as a heat map. Which classes was your model best at predicting? Which was it worst at predicting? How do you know?"
   ]
  },
  {
   "cell_type": "code",
   "execution_count": 1,
   "id": "d451cc60",
   "metadata": {},
   "outputs": [],
   "source": [
    "# Exercise 1\n",
    "# Read both data files into Python. (You can also use R, if you prefer. If you do use R, I would recommend working with a smaller subset of the data.)\n",
    "# Movie title and year of release are in the same column. Create a new variable that represents year of release, as a four-digit number."
   ]
  },
  {
   "cell_type": "code",
   "execution_count": 27,
   "id": "ec714758-7afe-4a30-9a32-5751971d2a5b",
   "metadata": {},
   "outputs": [],
   "source": [
    "import pandas as pd\n",
    "import numpy as np\n",
    "import re\n",
    "import warnings\n",
    "import matplotlib.pyplot as plt\n",
    "\n",
    "warnings.filterwarnings('ignore')\n",
    "\n",
    "movie = pd.read_csv(\"~/Desktop/homework-5/data/movies.csv\")\n",
    "rating = pd.read_csv(\"~/Desktop/homework-5/data/movie-ratings.csv\")\n"
   ]
  },
  {
   "cell_type": "code",
   "execution_count": 28,
   "id": "067d125f-a146-4d6a-9c21-4e1a9d936098",
   "metadata": {
    "scrolled": true
   },
   "outputs": [
    {
     "data": {
      "text/html": [
       "<div>\n",
       "<style scoped>\n",
       "    .dataframe tbody tr th:only-of-type {\n",
       "        vertical-align: middle;\n",
       "    }\n",
       "\n",
       "    .dataframe tbody tr th {\n",
       "        vertical-align: top;\n",
       "    }\n",
       "\n",
       "    .dataframe thead th {\n",
       "        text-align: right;\n",
       "    }\n",
       "</style>\n",
       "<table border=\"1\" class=\"dataframe\">\n",
       "  <thead>\n",
       "    <tr style=\"text-align: right;\">\n",
       "      <th></th>\n",
       "      <th>movieId</th>\n",
       "      <th>title</th>\n",
       "      <th>genres</th>\n",
       "      <th>year</th>\n",
       "    </tr>\n",
       "  </thead>\n",
       "  <tbody>\n",
       "    <tr>\n",
       "      <th>0</th>\n",
       "      <td>1</td>\n",
       "      <td>Toy Story (1995)</td>\n",
       "      <td>Adventure|Animation|Children|Comedy|Fantasy</td>\n",
       "      <td>1995</td>\n",
       "    </tr>\n",
       "    <tr>\n",
       "      <th>1</th>\n",
       "      <td>2</td>\n",
       "      <td>Jumanji (1995)</td>\n",
       "      <td>Adventure|Children|Fantasy</td>\n",
       "      <td>1995</td>\n",
       "    </tr>\n",
       "    <tr>\n",
       "      <th>2</th>\n",
       "      <td>3</td>\n",
       "      <td>Grumpier Old Men (1995)</td>\n",
       "      <td>Comedy|Romance</td>\n",
       "      <td>1995</td>\n",
       "    </tr>\n",
       "    <tr>\n",
       "      <th>3</th>\n",
       "      <td>4</td>\n",
       "      <td>Waiting to Exhale (1995)</td>\n",
       "      <td>Comedy|Drama|Romance</td>\n",
       "      <td>1995</td>\n",
       "    </tr>\n",
       "    <tr>\n",
       "      <th>4</th>\n",
       "      <td>5</td>\n",
       "      <td>Father of the Bride Part II (1995)</td>\n",
       "      <td>Comedy</td>\n",
       "      <td>1995</td>\n",
       "    </tr>\n",
       "  </tbody>\n",
       "</table>\n",
       "</div>"
      ],
      "text/plain": [
       "   movieId                               title  \\\n",
       "0        1                    Toy Story (1995)   \n",
       "1        2                      Jumanji (1995)   \n",
       "2        3             Grumpier Old Men (1995)   \n",
       "3        4            Waiting to Exhale (1995)   \n",
       "4        5  Father of the Bride Part II (1995)   \n",
       "\n",
       "                                        genres  year  \n",
       "0  Adventure|Animation|Children|Comedy|Fantasy  1995  \n",
       "1                   Adventure|Children|Fantasy  1995  \n",
       "2                               Comedy|Romance  1995  \n",
       "3                         Comedy|Drama|Romance  1995  \n",
       "4                                       Comedy  1995  "
      ]
     },
     "execution_count": 28,
     "metadata": {},
     "output_type": "execute_result"
    }
   ],
   "source": [
    "movie['year'] = movie['title'].str.extract(r'\\((\\d{4})\\)')\n",
    "movie = movie.dropna(subset=['year']) \n",
    "movie.head()"
   ]
  },
  {
   "cell_type": "code",
   "execution_count": 84,
   "id": "d4fb34b8",
   "metadata": {},
   "outputs": [],
   "source": [
    "# Exercise 2\n",
    "# Create a histogram of year of release. How would you describe the shape of the distribution? When were the most movies released?"
   ]
  },
  {
   "cell_type": "code",
   "execution_count": 29,
   "id": "3ae0818d-65ef-4357-8b7b-e30609cfe608",
   "metadata": {},
   "outputs": [
    {
     "data": {
      "image/png": "[encoded data removed]",
      "text/plain": [
       "<Figure size 1000x600 with 1 Axes>"
      ]
     },
     "metadata": {},
     "output_type": "display_data"
    }
   ],
   "source": [
    "movie['year'] = pd.to_numeric(movie['year'], errors='coerce', downcast='integer') \n",
    "plt.figure(figsize=(10,6))\n",
    "plt.hist(movie['year'], bins=range(movie['year'].min(), movie['year'].max() + 5, 5), edgecolor='black', alpha=0.7)\n",
    "plt.title(\"Histogram of Movie Year of Release\")\n",
    "plt.xlabel(\"Year\")\n",
    "plt.ylabel(\"Frequency\")\n",
    "plt.show()"
   ]
  },
  {
   "cell_type": "code",
   "execution_count": 86,
   "id": "c415a388-ff74-4edf-a171-15f8e23bc297",
   "metadata": {},
   "outputs": [],
   "source": [
    "# The shape of the distribution is skewed to the left, and most movies were released in the year 2005."
   ]
  },
  {
   "cell_type": "code",
   "execution_count": 87,
   "id": "9184eeb6",
   "metadata": {},
   "outputs": [],
   "source": [
    "# Exercise 3\n",
    "# Create a bar chart of the top 10 highest-rated movies."
   ]
  },
  {
   "cell_type": "code",
   "execution_count": 31,
   "id": "a4939de1-68ac-4f04-9a27-915c98d82052",
   "metadata": {},
   "outputs": [
    {
     "data": {
      "text/html": [
       "<div>\n",
       "<style scoped>\n",
       "    .dataframe tbody tr th:only-of-type {\n",
       "        vertical-align: middle;\n",
       "    }\n",
       "\n",
       "    .dataframe tbody tr th {\n",
       "        vertical-align: top;\n",
       "    }\n",
       "\n",
       "    .dataframe thead th {\n",
       "        text-align: right;\n",
       "    }\n",
       "</style>\n",
       "<table border=\"1\" class=\"dataframe\">\n",
       "  <thead>\n",
       "    <tr style=\"text-align: right;\">\n",
       "      <th></th>\n",
       "      <th>movieId</th>\n",
       "      <th>title</th>\n",
       "      <th>genres</th>\n",
       "      <th>year</th>\n",
       "      <th>userId</th>\n",
       "      <th>rating</th>\n",
       "      <th>timestamp</th>\n",
       "    </tr>\n",
       "  </thead>\n",
       "  <tbody>\n",
       "    <tr>\n",
       "      <th>0</th>\n",
       "      <td>1</td>\n",
       "      <td>Toy Story (1995)</td>\n",
       "      <td>Adventure|Animation|Children|Comedy|Fantasy</td>\n",
       "      <td>1995</td>\n",
       "      <td>1</td>\n",
       "      <td>4.0</td>\n",
       "      <td>964982703</td>\n",
       "    </tr>\n",
       "    <tr>\n",
       "      <th>1</th>\n",
       "      <td>1</td>\n",
       "      <td>Toy Story (1995)</td>\n",
       "      <td>Adventure|Animation|Children|Comedy|Fantasy</td>\n",
       "      <td>1995</td>\n",
       "      <td>5</td>\n",
       "      <td>4.0</td>\n",
       "      <td>847434962</td>\n",
       "    </tr>\n",
       "    <tr>\n",
       "      <th>2</th>\n",
       "      <td>1</td>\n",
       "      <td>Toy Story (1995)</td>\n",
       "      <td>Adventure|Animation|Children|Comedy|Fantasy</td>\n",
       "      <td>1995</td>\n",
       "      <td>7</td>\n",
       "      <td>4.5</td>\n",
       "      <td>1106635946</td>\n",
       "    </tr>\n",
       "    <tr>\n",
       "      <th>3</th>\n",
       "      <td>1</td>\n",
       "      <td>Toy Story (1995)</td>\n",
       "      <td>Adventure|Animation|Children|Comedy|Fantasy</td>\n",
       "      <td>1995</td>\n",
       "      <td>15</td>\n",
       "      <td>2.5</td>\n",
       "      <td>1510577970</td>\n",
       "    </tr>\n",
       "    <tr>\n",
       "      <th>4</th>\n",
       "      <td>1</td>\n",
       "      <td>Toy Story (1995)</td>\n",
       "      <td>Adventure|Animation|Children|Comedy|Fantasy</td>\n",
       "      <td>1995</td>\n",
       "      <td>17</td>\n",
       "      <td>4.5</td>\n",
       "      <td>1305696483</td>\n",
       "    </tr>\n",
       "    <tr>\n",
       "      <th>5</th>\n",
       "      <td>1</td>\n",
       "      <td>Toy Story (1995)</td>\n",
       "      <td>Adventure|Animation|Children|Comedy|Fantasy</td>\n",
       "      <td>1995</td>\n",
       "      <td>18</td>\n",
       "      <td>3.5</td>\n",
       "      <td>1455209816</td>\n",
       "    </tr>\n",
       "    <tr>\n",
       "      <th>6</th>\n",
       "      <td>1</td>\n",
       "      <td>Toy Story (1995)</td>\n",
       "      <td>Adventure|Animation|Children|Comedy|Fantasy</td>\n",
       "      <td>1995</td>\n",
       "      <td>19</td>\n",
       "      <td>4.0</td>\n",
       "      <td>965705637</td>\n",
       "    </tr>\n",
       "    <tr>\n",
       "      <th>7</th>\n",
       "      <td>1</td>\n",
       "      <td>Toy Story (1995)</td>\n",
       "      <td>Adventure|Animation|Children|Comedy|Fantasy</td>\n",
       "      <td>1995</td>\n",
       "      <td>21</td>\n",
       "      <td>3.5</td>\n",
       "      <td>1407618878</td>\n",
       "    </tr>\n",
       "    <tr>\n",
       "      <th>8</th>\n",
       "      <td>1</td>\n",
       "      <td>Toy Story (1995)</td>\n",
       "      <td>Adventure|Animation|Children|Comedy|Fantasy</td>\n",
       "      <td>1995</td>\n",
       "      <td>27</td>\n",
       "      <td>3.0</td>\n",
       "      <td>962685262</td>\n",
       "    </tr>\n",
       "    <tr>\n",
       "      <th>9</th>\n",
       "      <td>1</td>\n",
       "      <td>Toy Story (1995)</td>\n",
       "      <td>Adventure|Animation|Children|Comedy|Fantasy</td>\n",
       "      <td>1995</td>\n",
       "      <td>31</td>\n",
       "      <td>5.0</td>\n",
       "      <td>850466616</td>\n",
       "    </tr>\n",
       "  </tbody>\n",
       "</table>\n",
       "</div>"
      ],
      "text/plain": [
       "   movieId             title                                       genres  \\\n",
       "0        1  Toy Story (1995)  Adventure|Animation|Children|Comedy|Fantasy   \n",
       "1        1  Toy Story (1995)  Adventure|Animation|Children|Comedy|Fantasy   \n",
       "2        1  Toy Story (1995)  Adventure|Animation|Children|Comedy|Fantasy   \n",
       "3        1  Toy Story (1995)  Adventure|Animation|Children|Comedy|Fantasy   \n",
       "4        1  Toy Story (1995)  Adventure|Animation|Children|Comedy|Fantasy   \n",
       "5        1  Toy Story (1995)  Adventure|Animation|Children|Comedy|Fantasy   \n",
       "6        1  Toy Story (1995)  Adventure|Animation|Children|Comedy|Fantasy   \n",
       "7        1  Toy Story (1995)  Adventure|Animation|Children|Comedy|Fantasy   \n",
       "8        1  Toy Story (1995)  Adventure|Animation|Children|Comedy|Fantasy   \n",
       "9        1  Toy Story (1995)  Adventure|Animation|Children|Comedy|Fantasy   \n",
       "\n",
       "   year  userId  rating   timestamp  \n",
       "0  1995       1     4.0   964982703  \n",
       "1  1995       5     4.0   847434962  \n",
       "2  1995       7     4.5  1106635946  \n",
       "3  1995      15     2.5  1510577970  \n",
       "4  1995      17     4.5  1305696483  \n",
       "5  1995      18     3.5  1455209816  \n",
       "6  1995      19     4.0   965705637  \n",
       "7  1995      21     3.5  1407618878  \n",
       "8  1995      27     3.0   962685262  \n",
       "9  1995      31     5.0   850466616  "
      ]
     },
     "execution_count": 31,
     "metadata": {},
     "output_type": "execute_result"
    }
   ],
   "source": [
    "fulldata = pd.merge(movie,rating,on=\"movieId\")\n",
    "fulldata.head(10)"
   ]
  },
  {
   "cell_type": "code",
   "execution_count": 33,
   "id": "66cdc87c-0974-4285-af84-70cc065107f5",
   "metadata": {
    "scrolled": true
   },
   "outputs": [
    {
     "data": {
      "image/png": "[encoded data removed]",
      "text/plain": [
       "<Figure size 1000x600 with 1 Axes>"
      ]
     },
     "metadata": {},
     "output_type": "display_data"
    }
   ],
   "source": [
    "top_10_mov = (\n",
    "    fulldata\n",
    "    .drop_duplicates(subset='title')\n",
    "    .sort_values(by='rating', ascending=False)\n",
    "    .head(10)\n",
    ")\n",
    "\n",
    "plt.figure(figsize=(10, 6)) \n",
    "plt.barh(top_10_mov['title'], top_10_mov['rating'], color='skyblue')\n",
    "plt.xlabel('Rating')\n",
    "plt.ylabel('Movie Title')\n",
    "plt.title('Top 10 Highest-Rated Movies')\n",
    "plt.gca().invert_yaxis()  # Invert y-axis to have the highest rating at the top\n",
    "plt.show()"
   ]
  },
  {
   "cell_type": "markdown",
   "id": "a5b164f3-a8f6-4758-ad92-a64fba1c0739",
   "metadata": {},
   "source": []
  },
  {
   "cell_type": "code",
   "execution_count": 93,
   "id": "85787bf5-0965-4cf9-bc69-14e6816f3082",
   "metadata": {
    "scrolled": true
   },
   "outputs": [],
   "source": [
    "# Exercise 4\n",
    "# Create a variable called string that contains the text of each movie's genres, title, and year of release. For example, the value of string for movieID == 3 should be: \"Adventure Children Fantasy Jumanji (1995)\"."
   ]
  },
  {
   "cell_type": "code",
   "execution_count": 34,
   "id": "0cedce6e",
   "metadata": {},
   "outputs": [
    {
     "data": {
      "text/plain": [
       "'Comedy Romance Grumpier Old Men (1995)'"
      ]
     },
     "execution_count": 34,
     "metadata": {},
     "output_type": "execute_result"
    }
   ],
   "source": [
    "fulldata['clean_genres'] = fulldata['genres'].str.replace('|', ' ')\n",
    "fulldata['string'] = fulldata['clean_genres'] + \" \" + fulldata['title']\n",
    "\n",
    "fulldata.loc[fulldata['movieId'] == 3, 'string'].values[0]\n"
   ]
  },
  {
   "cell_type": "code",
   "execution_count": 21,
   "id": "20ffd09c",
   "metadata": {},
   "outputs": [],
   "source": [
    "# Exercise 5\n",
    "# Using the string variable, create a tf-idf matrix with TfidfVectorizer and tfv.fit."
   ]
  },
  {
   "cell_type": "code",
   "execution_count": 38,
   "id": "3284f294",
   "metadata": {},
   "outputs": [
    {
     "data": {
      "text/plain": [
       "<9706x3435 sparse matrix of type '<class 'numpy.float64'>'\n",
       "\twith 71966 stored elements in Compressed Sparse Row format>"
      ]
     },
     "execution_count": 38,
     "metadata": {},
     "output_type": "execute_result"
    }
   ],
   "source": [
    "from sklearn.feature_extraction.text import TfidfVectorizer\n",
    "\n",
    "rec_data = fulldata.copy() # create a copy of the orginal dataset\n",
    "rec_data\n",
    "rec_data.drop_duplicates(subset = \"title\", keep = \"first\", inplace = True)\n",
    "rec_data.reset_index(drop = True, inplace = True)\n",
    "\n",
    "\n",
    "tfv = TfidfVectorizer(min_df=3, max_features=None, strip_accents=\"unicode\", analyzer=\"word\",\n",
    "                      token_pattern=r\"\\w{1,}\", ngram_range=(1, 3), stop_words=\"english\")\n",
    "\n",
    "tfv_matrix = tfv.fit_transform(rec_data['string'])\n",
    "tfv_matrix"
   ]
  },
  {
   "cell_type": "code",
   "execution_count": 62,
   "id": "d4bf26a5",
   "metadata": {},
   "outputs": [],
   "source": [
    "# Exercise 6\n",
    "# Use the sigmoid kernel from scikit-learn to calculate pairwise similarities between all items in your tf-idf matrix."
   ]
  },
  {
   "cell_type": "code",
   "execution_count": 39,
   "id": "4ef48b63",
   "metadata": {},
   "outputs": [],
   "source": [
    "from sklearn.metrics.pairwise import sigmoid_kernel\n",
    "\n",
    "sig = sigmoid_kernel(tfv_matrix, tfv_matrix) # Computing sigmoid kernel\n",
    "rec_indices = pd.Series(rec_data.index, index = rec_data[\"title\"]).drop_duplicates()"
   ]
  },
  {
   "cell_type": "code",
   "execution_count": 64,
   "id": "02e0d602",
   "metadata": {},
   "outputs": [],
   "source": [
    "# Exercise 7\n",
    "# Define a function, give_recommendation(), that takes as input the title of a movie and returns the top 10 most similar movies."
   ]
  },
  {
   "cell_type": "code",
   "execution_count": 41,
   "id": "9bf56d57",
   "metadata": {},
   "outputs": [],
   "source": [
    "def give_recommendation(title, sig = sig):\n",
    "    \n",
    "    idx = rec_indices[title]\n",
    "\n",
    "    sig_score = list(enumerate(sig[idx]))  # Getting pairwsie similarity scores \n",
    "    sig_score = sorted(sig_score, key=lambda x: x[1], reverse=True)\n",
    "    sig_score = sig_score[1:11]\n",
    "    movie_indices = [i[0] for i in sig_score]\n",
    "     \n",
    "    # Top 10 most similar anime\n",
    "    rec_dic = {\"No\" : range(1,11), \n",
    "               \"Movie Name\": fulldata[\"title\"].iloc[movie_indices].values,\n",
    "               \"Rating\": fulldata[\"rating\"].iloc[movie_indices].values,}\n",
    "    dataframe = pd.DataFrame(data = rec_dic)\n",
    "    dataframe.set_index(\"No\", inplace = True)\n",
    "    \n",
    "    print(f\"Recommendations for {title} viewers :\\n\")\n",
    "    \n",
    "    return dataframe.style.set_properties(**{\"background-color\": \"white\",\"color\":\"black\",\"border\": \"1.5px  solid black\"})"
   ]
  },
  {
   "cell_type": "code",
   "execution_count": 66,
   "id": "abc9feb8",
   "metadata": {},
   "outputs": [],
   "source": [
    "# Exercise 8\n",
    "# What movies does your recommender system suggest for a user who likes \"Toy Story\" (released in 1995)"
   ]
  },
  {
   "cell_type": "code",
   "execution_count": 42,
   "id": "00151a1b",
   "metadata": {},
   "outputs": [
    {
     "name": "stdout",
     "output_type": "stream",
     "text": [
      "Recommendations for Toy Story (1995) viewers :\n",
      "\n"
     ]
    },
    {
     "data": {
      "text/html": [
       "<style type=\"text/css\">\n",
       "#T_49b6d_row0_col0, #T_49b6d_row0_col1, #T_49b6d_row1_col0, #T_49b6d_row1_col1, #T_49b6d_row2_col0, #T_49b6d_row2_col1, #T_49b6d_row3_col0, #T_49b6d_row3_col1, #T_49b6d_row4_col0, #T_49b6d_row4_col1, #T_49b6d_row5_col0, #T_49b6d_row5_col1, #T_49b6d_row6_col0, #T_49b6d_row6_col1, #T_49b6d_row7_col0, #T_49b6d_row7_col1, #T_49b6d_row8_col0, #T_49b6d_row8_col1, #T_49b6d_row9_col0, #T_49b6d_row9_col1 {\n",
       "  background-color: white;\n",
       "  color: black;\n",
       "  border: 1.5px  solid black;\n",
       "}\n",
       "</style>\n",
       "<table id=\"T_49b6d\">\n",
       "  <thead>\n",
       "    <tr>\n",
       "      <th class=\"blank level0\" >&nbsp;</th>\n",
       "      <th id=\"T_49b6d_level0_col0\" class=\"col_heading level0 col0\" >Movie Name</th>\n",
       "      <th id=\"T_49b6d_level0_col1\" class=\"col_heading level0 col1\" >Rating</th>\n",
       "    </tr>\n",
       "    <tr>\n",
       "      <th class=\"index_name level0\" >No</th>\n",
       "      <th class=\"blank col0\" >&nbsp;</th>\n",
       "      <th class=\"blank col1\" >&nbsp;</th>\n",
       "    </tr>\n",
       "  </thead>\n",
       "  <tbody>\n",
       "    <tr>\n",
       "      <th id=\"T_49b6d_level0_row0\" class=\"row_heading level0 row0\" >1</th>\n",
       "      <td id=\"T_49b6d_row0_col0\" class=\"data row0 col0\" >Pocahontas (1995)</td>\n",
       "      <td id=\"T_49b6d_row0_col1\" class=\"data row0 col1\" >3.000000</td>\n",
       "    </tr>\n",
       "    <tr>\n",
       "      <th id=\"T_49b6d_level0_row1\" class=\"row_heading level0 row1\" >2</th>\n",
       "      <td id=\"T_49b6d_row1_col0\" class=\"data row1 col0\" >Mary Shelley's Frankenstein (Frankenstein) (1994)</td>\n",
       "      <td id=\"T_49b6d_row1_col1\" class=\"data row1 col1\" >3.000000</td>\n",
       "    </tr>\n",
       "    <tr>\n",
       "      <th id=\"T_49b6d_level0_row2\" class=\"row_heading level0 row2\" >3</th>\n",
       "      <td id=\"T_49b6d_row2_col0\" class=\"data row2 col0\" >Babe (1995)</td>\n",
       "      <td id=\"T_49b6d_row2_col1\" class=\"data row2 col1\" >1.500000</td>\n",
       "    </tr>\n",
       "    <tr>\n",
       "      <th id=\"T_49b6d_level0_row3\" class=\"row_heading level0 row3\" >4</th>\n",
       "      <td id=\"T_49b6d_row3_col0\" class=\"data row3 col0\" >While You Were Sleeping (1995)</td>\n",
       "      <td id=\"T_49b6d_row3_col1\" class=\"data row3 col1\" >3.000000</td>\n",
       "    </tr>\n",
       "    <tr>\n",
       "      <th id=\"T_49b6d_level0_row4\" class=\"row_heading level0 row4\" >5</th>\n",
       "      <td id=\"T_49b6d_row4_col0\" class=\"data row4 col0\" >Dolores Claiborne (1995)</td>\n",
       "      <td id=\"T_49b6d_row4_col1\" class=\"data row4 col1\" >3.000000</td>\n",
       "    </tr>\n",
       "    <tr>\n",
       "      <th id=\"T_49b6d_level0_row5\" class=\"row_heading level0 row5\" >6</th>\n",
       "      <td id=\"T_49b6d_row5_col0\" class=\"data row5 col0\" >Star Wars: Episode IV - A New Hope (1977)</td>\n",
       "      <td id=\"T_49b6d_row5_col1\" class=\"data row5 col1\" >4.000000</td>\n",
       "    </tr>\n",
       "    <tr>\n",
       "      <th id=\"T_49b6d_level0_row6\" class=\"row_heading level0 row6\" >7</th>\n",
       "      <td id=\"T_49b6d_row6_col0\" class=\"data row6 col0\" >Braveheart (1995)</td>\n",
       "      <td id=\"T_49b6d_row6_col1\" class=\"data row6 col1\" >4.000000</td>\n",
       "    </tr>\n",
       "    <tr>\n",
       "      <th id=\"T_49b6d_level0_row7\" class=\"row_heading level0 row7\" >8</th>\n",
       "      <td id=\"T_49b6d_row7_col0\" class=\"data row7 col0\" >French Kiss (1995)</td>\n",
       "      <td id=\"T_49b6d_row7_col1\" class=\"data row7 col1\" >3.000000</td>\n",
       "    </tr>\n",
       "    <tr>\n",
       "      <th id=\"T_49b6d_level0_row8\" class=\"row_heading level0 row8\" >9</th>\n",
       "      <td id=\"T_49b6d_row8_col0\" class=\"data row8 col0\" >Quiz Show (1994)</td>\n",
       "      <td id=\"T_49b6d_row8_col1\" class=\"data row8 col1\" >4.000000</td>\n",
       "    </tr>\n",
       "    <tr>\n",
       "      <th id=\"T_49b6d_level0_row9\" class=\"row_heading level0 row9\" >10</th>\n",
       "      <td id=\"T_49b6d_row9_col0\" class=\"data row9 col0\" >Clerks (1994)</td>\n",
       "      <td id=\"T_49b6d_row9_col1\" class=\"data row9 col1\" >3.000000</td>\n",
       "    </tr>\n",
       "  </tbody>\n",
       "</table>\n"
      ],
      "text/plain": [
       "<pandas.io.formats.style.Styler at 0x7fa35a4d06d0>"
      ]
     },
     "execution_count": 42,
     "metadata": {},
     "output_type": "execute_result"
    }
   ],
   "source": [
    "give_recommendation(\"Toy Story (1995)\")"
   ]
  },
  {
   "cell_type": "code",
   "execution_count": null,
   "id": "05dfed2a",
   "metadata": {},
   "outputs": [],
   "source": []
  }
 ],
 "metadata": {
  "kernelspec": {
   "display_name": "Python 3 (ipykernel)",
   "language": "python",
   "name": "python3"
  },
  "language_info": {
   "codemirror_mode": {
    "name": "ipython",
    "version": 3
   },
   "file_extension": ".py",
   "mimetype": "text/x-python",
   "name": "python",
   "nbconvert_exporter": "python",
   "pygments_lexer": "ipython3",
   "version": "3.9.13"
  }
 },
 "nbformat": 4,
 "nbformat_minor": 5
}
